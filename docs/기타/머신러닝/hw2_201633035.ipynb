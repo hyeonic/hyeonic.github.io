{
  "nbformat": 4,
  "nbformat_minor": 2,
  "metadata": {
    "colab": {
      "name": "hw2_201633035.ipynb",
      "provenance": [],
      "collapsed_sections": [],
      "toc_visible": true
    },
    "kernelspec": {
      "name": "python3",
      "display_name": "Python 3"
    },
    "language_info": {
      "name": "python"
    }
  },
  "cells": [
    {
      "cell_type": "markdown",
      "source": [
        "## 도미 데이터"
      ],
      "metadata": {
        "id": "clwmkMKFtuj4"
      }
    },
    {
      "cell_type": "code",
      "execution_count": 132,
      "source": [
        "bream_length = [25.4, 26.3, 26.5, 29.0, 29.0, 29.7, 29.7, 30.0, 30.0, 30.7, 31.0, 31.0, 31.5, 32.0, 32.0, 32.0, 33.0, 33.0, 33.5, 33.5, 34.0, 34.0, 34.5, 35.0, 35.0, 35.0, 35.0, 36.0, 36.0, 37.0, 38.5, 38.5, 39.5, 41.0, 41.0]\n",
        "bream_weight = [242.0, 290.0, 340.0, 363.0, 430.0, 450.0, 500.0, 390.0, 450.0, 500.0, 475.0, 500.0, 500.0, 340.0, 600.0, 600.0, 700.0, 700.0, 610.0, 650.0, 575.0, 685.0, 620.0, 680.0, 700.0, 725.0, 720.0, 714.0, 850.0, 1000.0, 920.0, 955.0, 925.0, 975.0, 950.0]\n",
        "\n",
        "print(bream_length)\n",
        "print(bream_weight)"
      ],
      "outputs": [
        {
          "output_type": "stream",
          "name": "stdout",
          "text": [
            "[25.4, 26.3, 26.5, 29.0, 29.0, 29.7, 29.7, 30.0, 30.0, 30.7, 31.0, 31.0, 31.5, 32.0, 32.0, 32.0, 33.0, 33.0, 33.5, 33.5, 34.0, 34.0, 34.5, 35.0, 35.0, 35.0, 35.0, 36.0, 36.0, 37.0, 38.5, 38.5, 39.5, 41.0, 41.0]\n",
            "[242.0, 290.0, 340.0, 363.0, 430.0, 450.0, 500.0, 390.0, 450.0, 500.0, 475.0, 500.0, 500.0, 340.0, 600.0, 600.0, 700.0, 700.0, 610.0, 650.0, 575.0, 685.0, 620.0, 680.0, 700.0, 725.0, 720.0, 714.0, 850.0, 1000.0, 920.0, 955.0, 925.0, 975.0, 950.0]\n"
          ]
        }
      ],
      "metadata": {
        "colab": {
          "base_uri": "https://localhost:8080/"
        },
        "id": "kwJ8DXEqqemJ",
        "outputId": "6fdffe15-476e-4864-e329-c7b53bc05426"
      }
    },
    {
      "cell_type": "code",
      "execution_count": 133,
      "source": [
        "import matplotlib.pyplot as plt # 모듈\n",
        "\n",
        "plt.scatter(bream_length, bream_weight)\n",
        "plt.xlabel('length')\n",
        "plt.ylabel('weight')\n",
        "plt.title('bream data')\n",
        "plt.show()"
      ],
      "outputs": [
        {
          "output_type": "display_data",
          "data": {
            "image/png": "[encoded data removed]",
            "text/plain": [
              "<Figure size 432x288 with 1 Axes>"
            ]
          },
          "metadata": {
            "needs_background": "light"
          }
        }
      ],
      "metadata": {
        "colab": {
          "base_uri": "https://localhost:8080/",
          "height": 295
        },
        "id": "TW1ZC_eHslZl",
        "outputId": "182b870c-d827-4bcf-8dd2-c0eca1c334a9"
      }
    },
    {
      "cell_type": "markdown",
      "source": [
        "## 빙어 데이터"
      ],
      "metadata": {
        "id": "xLE5xMElt3bk"
      }
    },
    {
      "cell_type": "code",
      "execution_count": 134,
      "source": [
        "smelt_length = [9.8, 10.5, 10.6, 11.0, 11.2, 11.3, 11.8, 11.8, 12.0, 12.2, 12.4, 13.0, 14.3, 15.0]\n",
        "smelt_weight = [6.7, 7.5, 7.0, 9.7, 9.8, 8.7, 10.0, 9.9, 9.8, 12.2, 13.4, 12.2, 19.7, 19.9]"
      ],
      "outputs": [],
      "metadata": {
        "id": "bx7xEaDFtqZS"
      }
    },
    {
      "cell_type": "code",
      "execution_count": 135,
      "source": [
        "plt.scatter(smelt_length, smelt_weight)\n",
        "plt.xlabel('length')\n",
        "plt.ylabel('weight')\n",
        "plt.title('smelt data')\n",
        "plt.show()"
      ],
      "outputs": [
        {
          "output_type": "display_data",
          "data": {
            "image/png": "[encoded data removed]",
            "text/plain": [
              "<Figure size 432x288 with 1 Axes>"
            ]
          },
          "metadata": {
            "needs_background": "light"
          }
        }
      ],
      "metadata": {
        "colab": {
          "base_uri": "https://localhost:8080/",
          "height": 295
        },
        "id": "WvOKVpXYtsy7",
        "outputId": "fa0b441f-8ee5-429e-8e27-3a9cbd09a9fc"
      }
    },
    {
      "cell_type": "markdown",
      "source": [
        "## 도미와 빙어"
      ],
      "metadata": {
        "id": "ucVa76F4vpvv"
      }
    },
    {
      "cell_type": "code",
      "execution_count": 136,
      "source": [
        "plt.scatter(bream_length, bream_weight)\n",
        "plt.scatter(smelt_length, smelt_weight)\n",
        "plt.xlabel('length')\n",
        "plt.ylabel('weight')\n",
        "plt.title('bream and smelt data')\n",
        "plt.show()"
      ],
      "outputs": [
        {
          "output_type": "display_data",
          "data": {
            "image/png": "[encoded data removed]",
            "text/plain": [
              "<Figure size 432x288 with 1 Axes>"
            ]
          },
          "metadata": {
            "needs_background": "light"
          }
        }
      ],
      "metadata": {
        "colab": {
          "base_uri": "https://localhost:8080/",
          "height": 295
        },
        "id": "kPRYg_E7vp8n",
        "outputId": "8f71d852-7a9d-498d-be11-b1e1b34147f6"
      }
    },
    {
      "cell_type": "markdown",
      "source": [
        "## 데이터 합치기"
      ],
      "metadata": {
        "id": "2jvJ107ev2fm"
      }
    },
    {
      "cell_type": "code",
      "execution_count": 137,
      "source": [
        "length = bream_length+smelt_length\n",
        "weight = bream_weight+smelt_weight\n",
        "\n",
        "print(length)\n",
        "print(weight)"
      ],
      "outputs": [
        {
          "output_type": "stream",
          "name": "stdout",
          "text": [
            "[25.4, 26.3, 26.5, 29.0, 29.0, 29.7, 29.7, 30.0, 30.0, 30.7, 31.0, 31.0, 31.5, 32.0, 32.0, 32.0, 33.0, 33.0, 33.5, 33.5, 34.0, 34.0, 34.5, 35.0, 35.0, 35.0, 35.0, 36.0, 36.0, 37.0, 38.5, 38.5, 39.5, 41.0, 41.0, 9.8, 10.5, 10.6, 11.0, 11.2, 11.3, 11.8, 11.8, 12.0, 12.2, 12.4, 13.0, 14.3, 15.0]\n",
            "[242.0, 290.0, 340.0, 363.0, 430.0, 450.0, 500.0, 390.0, 450.0, 500.0, 475.0, 500.0, 500.0, 340.0, 600.0, 600.0, 700.0, 700.0, 610.0, 650.0, 575.0, 685.0, 620.0, 680.0, 700.0, 725.0, 720.0, 714.0, 850.0, 1000.0, 920.0, 955.0, 925.0, 975.0, 950.0, 6.7, 7.5, 7.0, 9.7, 9.8, 8.7, 10.0, 9.9, 9.8, 12.2, 13.4, 12.2, 19.7, 19.9]\n"
          ]
        }
      ],
      "metadata": {
        "colab": {
          "base_uri": "https://localhost:8080/"
        },
        "id": "KUTYtv3yvCI3",
        "outputId": "8fbf1c8a-1c55-4bd9-d694-81261796ede1"
      }
    },
    {
      "cell_type": "markdown",
      "source": [
        "### 리스트 내포 (list comprehension)"
      ],
      "metadata": {
        "id": "H8Qp0xq8wYeL"
      }
    },
    {
      "cell_type": "code",
      "execution_count": 138,
      "source": [
        "fish_data = [[l, w] for l, w in zip(length, weight)]\n",
        "\n",
        "print(fish_data)"
      ],
      "outputs": [
        {
          "output_type": "stream",
          "name": "stdout",
          "text": [
            "[[25.4, 242.0], [26.3, 290.0], [26.5, 340.0], [29.0, 363.0], [29.0, 430.0], [29.7, 450.0], [29.7, 500.0], [30.0, 390.0], [30.0, 450.0], [30.7, 500.0], [31.0, 475.0], [31.0, 500.0], [31.5, 500.0], [32.0, 340.0], [32.0, 600.0], [32.0, 600.0], [33.0, 700.0], [33.0, 700.0], [33.5, 610.0], [33.5, 650.0], [34.0, 575.0], [34.0, 685.0], [34.5, 620.0], [35.0, 680.0], [35.0, 700.0], [35.0, 725.0], [35.0, 720.0], [36.0, 714.0], [36.0, 850.0], [37.0, 1000.0], [38.5, 920.0], [38.5, 955.0], [39.5, 925.0], [41.0, 975.0], [41.0, 950.0], [9.8, 6.7], [10.5, 7.5], [10.6, 7.0], [11.0, 9.7], [11.2, 9.8], [11.3, 8.7], [11.8, 10.0], [11.8, 9.9], [12.0, 9.8], [12.2, 12.2], [12.4, 13.4], [13.0, 12.2], [14.3, 19.7], [15.0, 19.9]]\n"
          ]
        }
      ],
      "metadata": {
        "colab": {
          "base_uri": "https://localhost:8080/"
        },
        "id": "R4iMVGShv5Fw",
        "outputId": "e3843d4d-f05b-4184-acf6-3ffe503ac029"
      }
    },
    {
      "cell_type": "markdown",
      "source": [
        "## 정답 데이터 준비하기\n"
      ],
      "metadata": {
        "id": "HJ-bSPZzw0Vp"
      }
    },
    {
      "cell_type": "code",
      "execution_count": 139,
      "source": [
        "fish_target = [1]*35 + [0]*14\n",
        "print(fish_target)"
      ],
      "outputs": [
        {
          "output_type": "stream",
          "name": "stdout",
          "text": [
            "[1, 1, 1, 1, 1, 1, 1, 1, 1, 1, 1, 1, 1, 1, 1, 1, 1, 1, 1, 1, 1, 1, 1, 1, 1, 1, 1, 1, 1, 1, 1, 1, 1, 1, 1, 0, 0, 0, 0, 0, 0, 0, 0, 0, 0, 0, 0, 0, 0]\n"
          ]
        }
      ],
      "metadata": {
        "colab": {
          "base_uri": "https://localhost:8080/"
        },
        "id": "4DASru6bw04I",
        "outputId": "561e84e3-242b-45b1-dc18-5c90ea2e3c31"
      }
    },
    {
      "cell_type": "markdown",
      "source": [
        "## 모델 (model)\n",
        "* 머신러닝 알고리즘을 구현한 프로그램\n",
        "* 알고리즘을 수식 등으로 구체화하여 표현한 것\n",
        "\n",
        "## 훈련 (training, 또는 학습)\n",
        "* 모델에 데이터를 전달하여 규칙을 학습하는 과정\n",
        "* 모델의 학습 파라미터를 결정"
      ],
      "metadata": {
        "id": "WRl8twtJyKqi"
      }
    },
    {
      "cell_type": "markdown",
      "source": [
        "## 첫번째 머신러닝 프로그램\n",
        "\n",
        "### k-최근접 이웃 모델\n",
        "\n",
        "\n",
        "* k-최근접 이웃 모델(k-nearest neighborm K=NN)을 학습하여 도미와 방어 분류하기\n",
        "\n"
      ],
      "metadata": {
        "id": "F3I1dJKpxaFr"
      }
    },
    {
      "cell_type": "markdown",
      "source": [
        "* KNeighborClassifier 클래스 import"
      ],
      "metadata": {
        "id": "qadYWwXlypaC"
      }
    },
    {
      "cell_type": "code",
      "execution_count": 140,
      "source": [
        "from sklearn.neighbors import KNeighborsClassifier"
      ],
      "outputs": [],
      "metadata": {
        "id": "jsIs-Kuzyo5L"
      }
    },
    {
      "cell_type": "markdown",
      "source": [
        "* KNeighborClassifier 클래스 객체 생성하기\n"
      ],
      "metadata": {
        "id": "clYvS524y1Pk"
      }
    },
    {
      "cell_type": "code",
      "execution_count": 141,
      "source": [
        "kn = KNeighborsClassifier()"
      ],
      "outputs": [],
      "metadata": {
        "id": "Uc2XFXqXxaMr"
      }
    },
    {
      "cell_type": "code",
      "execution_count": 142,
      "source": [
        "kn.fit(fish_data, fish_target)"
      ],
      "outputs": [
        {
          "output_type": "execute_result",
          "data": {
            "text/plain": [
              "KNeighborsClassifier(algorithm='auto', leaf_size=30, metric='minkowski',\n",
              "                     metric_params=None, n_jobs=None, n_neighbors=5, p=2,\n",
              "                     weights='uniform')"
            ]
          },
          "metadata": {},
          "execution_count": 142
        }
      ],
      "metadata": {
        "colab": {
          "base_uri": "https://localhost:8080/"
        },
        "id": "q1pFzn8SzPiu",
        "outputId": "b68dda22-b328-4a0b-d236-16222e955470"
      }
    },
    {
      "cell_type": "code",
      "execution_count": 143,
      "source": [
        "kn.score(fish_data, fish_target)"
      ],
      "outputs": [
        {
          "output_type": "execute_result",
          "data": {
            "text/plain": [
              "1.0"
            ]
          },
          "metadata": {},
          "execution_count": 143
        }
      ],
      "metadata": {
        "colab": {
          "base_uri": "https://localhost:8080/"
        },
        "id": "YS5RuhHUzRgl",
        "outputId": "5f97a5bf-f9f0-4198-b355-6ce456f196b5"
      }
    },
    {
      "cell_type": "markdown",
      "source": [
        "## k-최근접 이웃 알고리즘 (k-nearest neighbor, K-NN)\n",
        "* 어떤 데이터에 대한 답을 구할 때, 주위의 가장 가까운 다른 데이터 k개를 보고 다수(주로 홀수)를 차지하는 것을 정답으로 예측하는 모델\n",
        "* 새로운 데이터의 정답 예측하기: predict() 메소드\n",
        "  * 리스트의 리스트를 입력으로 사용\n",
        "  * KNeighborClassifier 클래스의 최근접 이웃 개수 (k) 기본값은 5"
      ],
      "metadata": {
        "id": "wGbQYrdCzj_v"
      }
    },
    {
      "cell_type": "code",
      "execution_count": 144,
      "source": [
        "kn.predict([[30, 600]])"
      ],
      "outputs": [
        {
          "output_type": "execute_result",
          "data": {
            "text/plain": [
              "array([1])"
            ]
          },
          "metadata": {},
          "execution_count": 144
        }
      ],
      "metadata": {
        "colab": {
          "base_uri": "https://localhost:8080/"
        },
        "id": "GweBXtBz0coq",
        "outputId": "80ff214a-d80d-49da-b60a-0cd72b0a19d5"
      }
    },
    {
      "cell_type": "code",
      "execution_count": 145,
      "source": [
        "kn.predict([[18, 100]])"
      ],
      "outputs": [
        {
          "output_type": "execute_result",
          "data": {
            "text/plain": [
              "array([0])"
            ]
          },
          "metadata": {},
          "execution_count": 145
        }
      ],
      "metadata": {
        "colab": {
          "base_uri": "https://localhost:8080/"
        },
        "id": "VuS8wo3k0ldo",
        "outputId": "f6d4c732-ddc8-4f28-d612-7e918537c8d7"
      }
    },
    {
      "cell_type": "markdown",
      "source": [
        "* 실제로 학습되는 모델 파라미터가 없음"
      ],
      "metadata": {
        "id": "YzgqmHX61j0V"
      }
    },
    {
      "cell_type": "code",
      "execution_count": 146,
      "source": [
        "print(kn._fit_X)"
      ],
      "outputs": [
        {
          "output_type": "stream",
          "name": "stdout",
          "text": [
            "[[  25.4  242. ]\n",
            " [  26.3  290. ]\n",
            " [  26.5  340. ]\n",
            " [  29.   363. ]\n",
            " [  29.   430. ]\n",
            " [  29.7  450. ]\n",
            " [  29.7  500. ]\n",
            " [  30.   390. ]\n",
            " [  30.   450. ]\n",
            " [  30.7  500. ]\n",
            " [  31.   475. ]\n",
            " [  31.   500. ]\n",
            " [  31.5  500. ]\n",
            " [  32.   340. ]\n",
            " [  32.   600. ]\n",
            " [  32.   600. ]\n",
            " [  33.   700. ]\n",
            " [  33.   700. ]\n",
            " [  33.5  610. ]\n",
            " [  33.5  650. ]\n",
            " [  34.   575. ]\n",
            " [  34.   685. ]\n",
            " [  34.5  620. ]\n",
            " [  35.   680. ]\n",
            " [  35.   700. ]\n",
            " [  35.   725. ]\n",
            " [  35.   720. ]\n",
            " [  36.   714. ]\n",
            " [  36.   850. ]\n",
            " [  37.  1000. ]\n",
            " [  38.5  920. ]\n",
            " [  38.5  955. ]\n",
            " [  39.5  925. ]\n",
            " [  41.   975. ]\n",
            " [  41.   950. ]\n",
            " [   9.8    6.7]\n",
            " [  10.5    7.5]\n",
            " [  10.6    7. ]\n",
            " [  11.     9.7]\n",
            " [  11.2    9.8]\n",
            " [  11.3    8.7]\n",
            " [  11.8   10. ]\n",
            " [  11.8    9.9]\n",
            " [  12.     9.8]\n",
            " [  12.2   12.2]\n",
            " [  12.4   13.4]\n",
            " [  13.    12.2]\n",
            " [  14.3   19.7]\n",
            " [  15.    19.9]]\n"
          ]
        }
      ],
      "metadata": {
        "colab": {
          "base_uri": "https://localhost:8080/"
        },
        "id": "8b5eBslx0fqW",
        "outputId": "a0ccb116-2ccb-42fc-a106-0cf8e3951dde"
      }
    },
    {
      "cell_type": "code",
      "execution_count": 147,
      "source": [
        "print(kn._y)"
      ],
      "outputs": [
        {
          "output_type": "stream",
          "name": "stdout",
          "text": [
            "[1 1 1 1 1 1 1 1 1 1 1 1 1 1 1 1 1 1 1 1 1 1 1 1 1 1 1 1 1 1 1 1 1 1 1 0 0\n",
            " 0 0 0 0 0 0 0 0 0 0 0 0]\n"
          ]
        }
      ],
      "metadata": {
        "colab": {
          "base_uri": "https://localhost:8080/"
        },
        "id": "i099fAQ71rWR",
        "outputId": "14c6bac4-ccae-411d-de8a-8bf517cb9419"
      }
    },
    {
      "cell_type": "markdown",
      "source": [
        "* 데이터를 모두 가지고 있다고 새로운 데이터가 입력되면 가장 가까운 데이터를 참고하여 예측"
      ],
      "metadata": {
        "id": "aOkL03sw1v8C"
      }
    },
    {
      "cell_type": "markdown",
      "source": [
        "* KNeighborClassifier 클래스의 최근접 이웃 개수 (n_beighbors=5)로 변경하기\n"
      ],
      "metadata": {
        "id": "W2TR7n3Z1_Nj"
      }
    },
    {
      "cell_type": "code",
      "execution_count": 148,
      "source": [
        "kn49 = KNeighborsClassifier(n_neighbors=49)"
      ],
      "outputs": [],
      "metadata": {
        "id": "4Sy1jPsz2HFp"
      }
    },
    {
      "cell_type": "code",
      "execution_count": 149,
      "source": [
        "kn49.fit(fish_data, fish_target)\n",
        "kn49.score(fish_data, fish_target)"
      ],
      "outputs": [
        {
          "output_type": "execute_result",
          "data": {
            "text/plain": [
              "0.7142857142857143"
            ]
          },
          "metadata": {},
          "execution_count": 149
        }
      ],
      "metadata": {
        "colab": {
          "base_uri": "https://localhost:8080/"
        },
        "id": "b-QzZDYh2I7n",
        "outputId": "433cd64d-3361-470d-bb70-314c90821db7"
      }
    },
    {
      "cell_type": "code",
      "execution_count": 150,
      "source": [
        "print(35/49)"
      ],
      "outputs": [
        {
          "output_type": "stream",
          "name": "stdout",
          "text": [
            "0.7142857142857143\n"
          ]
        }
      ],
      "metadata": {
        "colab": {
          "base_uri": "https://localhost:8080/"
        },
        "id": "TL_iS1cu2KMp",
        "outputId": "0d9a7fc8-871d-44d6-c1f6-07b800c0c250"
      }
    }
  ]
}